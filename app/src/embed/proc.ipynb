{
 "cells": [
  {
   "cell_type": "code",
   "id": "initial_id",
   "metadata": {
    "collapsed": true,
    "ExecuteTime": {
     "end_time": "2024-06-12T19:57:53.184148Z",
     "start_time": "2024-06-12T19:57:51.888761Z"
    }
   },
   "source": [
    "import pandas as pd\n",
    "from elasticsearch import Elasticsearch\n",
    "from elasticsearch import helpers\n",
    "\n",
    "csv_path = '../../../resources/union_4.csv'\n",
    "es = Elasticsearch('http://87.242.93.110:9200', basic_auth=('elastic', 'T86zNAvyHwbAr4S'))\n",
    "video_index = 'video-index-4'\n",
    "batch_size = 10\n",
    "\n",
    "data: pd.DataFrame = pd.read_csv(csv_path)\n"
   ],
   "outputs": [
    {
     "name": "stderr",
     "output_type": "stream",
     "text": [
      "/Users/apple/Documents/projects/hackaton-lct-2024/video-service/video-venv/venv/lib/python3.9/site-packages/urllib3/__init__.py:35: NotOpenSSLWarning: urllib3 v2 only supports OpenSSL 1.1.1+, currently the 'ssl' module is compiled with 'LibreSSL 2.8.3'. See: https://github.com/urllib3/urllib3/issues/3020\n",
      "  warnings.warn(\n"
     ]
    }
   ],
   "execution_count": 1
  },
  {
   "metadata": {
    "ExecuteTime": {
     "end_time": "2024-06-12T19:57:58.036590Z",
     "start_time": "2024-06-12T19:57:53.830852Z"
    }
   },
   "cell_type": "code",
   "source": [
    "from transformers import AutoTokenizer, AutoModel\n",
    "import torch\n",
    "\n",
    "print(torch.backends.mps.is_available())\n",
    "device = torch.device(\"mps\")\n",
    "\n",
    "\n",
    "#Mean Pooling - Take attention mask into account for correct averaging\n",
    "def mean_pooling(model_output, attention_mask):\n",
    "    token_embeddings = model_output[0]  #First element of model_output contains all token embeddings\n",
    "    input_mask_expanded = attention_mask.unsqueeze(-1).expand(token_embeddings.size()).float()\n",
    "    sum_embeddings = torch.sum(token_embeddings * input_mask_expanded, 1)\n",
    "    sum_mask = torch.clamp(input_mask_expanded.sum(1), min=1e-9)\n",
    "    return sum_embeddings / sum_mask\n",
    "\n",
    "\n",
    "#Load AutoModel from huggingface model repository\n",
    "tokenizer = AutoTokenizer.from_pretrained(\"ai-forever/sbert_large_nlu_ru\")\n",
    "model = AutoModel.from_pretrained(\"ai-forever/sbert_large_nlu_ru\")\n",
    "model = model.to(device)\n",
    "\n",
    "\n",
    "def get_embedding_3(text):\n",
    "    #Tokenize sentences\n",
    "    encoded_input = tokenizer(text, padding=True, truncation=True, max_length=10000, return_tensors='pt').to(device)\n",
    "\n",
    "    #Compute token embeddings\n",
    "    with torch.no_grad():\n",
    "        model_output = model(**encoded_input)\n",
    "\n",
    "    #Perform pooling. In this case, mean pooling\n",
    "    sentence_embeddings = mean_pooling(model_output, encoded_input['attention_mask'])\n",
    "    return sentence_embeddings[0].cpu().detach().numpy()\n",
    "\n",
    "\n",
    "len(get_embedding_3('Привет'))"
   ],
   "id": "344a202bf13caf59",
   "outputs": [
    {
     "name": "stdout",
     "output_type": "stream",
     "text": [
      "True\n"
     ]
    },
    {
     "data": {
      "text/plain": [
       "1024"
      ]
     },
     "execution_count": 2,
     "metadata": {},
     "output_type": "execute_result"
    }
   ],
   "execution_count": 2
  },
  {
   "metadata": {
    "jupyter": {
     "is_executing": true
    },
    "ExecuteTime": {
     "start_time": "2024-06-12T20:03:37.675869Z"
    }
   },
   "cell_type": "code",
   "source": [
    "def process_data(df: pd.DataFrame):\n",
    "    videos = []\n",
    "    for index, row in df.iterrows():\n",
    "        video = {\n",
    "            'index': row['index'],\n",
    "            'description_ru': row['description_ru'],\n",
    "            'description_ru_vector': get_embedding_3(row['description_ru']),\n",
    "            'link': row['link'],\n",
    "            'voice_vector': get_embedding_3(str(row['text'] or '')),\n",
    "            'tags_vector': get_embedding_3(str(row['tags'] or '')),\n",
    "            'tags': str(row['tags'] or None),\n",
    "            'voice': str(row['text'] or None),\n",
    "            'summary': str(row['short_description_ru'] or None)\n",
    "        }\n",
    "\n",
    "        # if isinstance(row['text'], str) and len(row['text']) > 0:\n",
    "        #     video['voice_vector'] = get_embedding_3(row['text'])\n",
    "\n",
    "        videos.append(video)\n",
    "    helpers.bulk(es, videos, index=video_index)\n",
    "\n",
    "\n",
    "from concurrent.futures import ThreadPoolExecutor\n",
    "import os\n",
    "\n",
    "os.environ[\"TOKENIZERS_PARALLELISM\"] = \"true\"\n",
    "executor = ThreadPoolExecutor(max_workers=12)\n",
    "\n",
    "data: pd.DataFrame = pd.read_csv(csv_path)\n",
    "# data = data.loc[370:370]\n",
    "\n",
    "# process_data(data)\n",
    "\n",
    "list_of_dfs = [data.loc[i:i + batch_size - 1, :] for i in range(0, len(data), batch_size)]\n",
    "\n",
    "futures = []\n",
    "for i in range(0, len(list_of_dfs)):\n",
    "    future = executor.submit(process_data, list_of_dfs[i])\n",
    "    futures.append(future)\n",
    "\n",
    "for future in futures:\n",
    "    future.result()"
   ],
   "id": "665219e998cc82dd",
   "outputs": [],
   "execution_count": null
  },
  {
   "metadata": {
    "ExecuteTime": {
     "end_time": "2024-06-10T20:37:52.241514Z",
     "start_time": "2024-06-10T20:37:52.158908Z"
    }
   },
   "cell_type": "code",
   "source": [
    "text = 'тачки'\n",
    "text_vector = get_embedding_3(text)\n",
    "\n",
    "query = {\n",
    "    'knn': {\n",
    "        'field': 'vector',\n",
    "        # 'field': 'voice_vector',\n",
    "        # 'field': 'description_ru_vector',\n",
    "        'query_vector': text_vector,\n",
    "        # 'k': 10,\n",
    "        # 'num_candidates': 100\n",
    "    },\n",
    "    'fields': ['description_ru', 'link'],\n",
    "    '_source': 'false'\n",
    "}\n",
    "\n",
    "multi_query = {\n",
    "    \"knn\": [\n",
    "        {\n",
    "            \"field\": \"description_ru_vector\",\n",
    "            \"query_vector\": text_vector,\n",
    "            \"k\": 10,\n",
    "            \"boost\": 0\n",
    "        },\n",
    "        {\n",
    "            \"field\": \"tags_vector\",\n",
    "            \"query_vector\": text_vector,\n",
    "            \"k\": 10,\n",
    "            \"boost\": 1\n",
    "        },\n",
    "        {\n",
    "            \"field\": \"voice_vector\",\n",
    "            \"query_vector\": text_vector,\n",
    "            \"k\": 10,\n",
    "            \"boost\": 0\n",
    "        }\n",
    "    ],\n",
    "    'fields': ['description_ru', 'link'],\n",
    "    '_source': 'false'\n",
    "}\n",
    "\n",
    "response = es.search(index=\"video-index-3\", body=multi_query)\n",
    "items = response['hits']['hits']\n",
    "items"
   ],
   "id": "c319705258b72cba",
   "outputs": [
    {
     "data": {
      "text/plain": [
       "[{'_index': 'video-index-3',\n",
       "  '_id': 'PzexA5ABoItb8IbNe19R',\n",
       "  '_score': 0.81299543,\n",
       "  '_source': {},\n",
       "  'fields': {'link': ['https://cdn-st.rutubelist.ru/media/02/59/21de5421418188fbee19966f4dd3/fhd.mp4'],\n",
       "   'description_ru': ['Мотоцикл с красным сиденьем и красным рулем. Красный мотоцикл с рулем и ручкой руля. Машина с камерой на заднем сиденье. Женщина в красном топе сидит на красном мотоцикле. Женщина в черном платье, стоящая рядом с мотоциклом.']}},\n",
       " {'_index': 'video-index-3',\n",
       "  '_id': '4zesA5ABoItb8IbNVUnt',\n",
       "  '_score': 0.8122759,\n",
       "  '_ignored': ['description_ru.keyword'],\n",
       "  '_source': {},\n",
       "  'fields': {'link': ['https://cdn-st.rutubelist.ru/media/01/73/4a9e04e44b46956392585327ca69/fhd.mp4'],\n",
       "   'description_ru': ['Автомобиль едет по улице с птицей, летящей в воздухе. Автомобиль едет по улице с птицей на лобовом стекле. Черный автомобиль припарковался перед зданием. Автомобиль с черно -белой машиной на заднем плане. Автомобиль припаркован перед зданием с черной машиной. Автомобиль припаркован перед стеной. Автомобиль припаркован на стоянке с птицей на лобовом стекле. Автомобиль припаркован перед зданием.']}},\n",
       " {'_index': 'video-index-3',\n",
       "  '_id': '5DesA5ABoItb8IbNVUnt',\n",
       "  '_score': 0.8122759,\n",
       "  '_ignored': ['description_ru.keyword'],\n",
       "  '_source': {},\n",
       "  'fields': {'link': ['https://cdn-st.rutubelist.ru/media/01/73/640bdbb243f698f6f60b346bdd04/fhd.mp4'],\n",
       "   'description_ru': ['Женщина, стоящая перед машиной в гараже. Женщина, стоящая перед машиной с красной курткой. Женщина, стоящая на плиточном поле перед зданием. Женщина, стоящая перед машиной с красной машиной. Женщина, сидящая в машине с мобильным телефоном. Женщина, стоящая в комнате с машиной. Женщина, сидящая в машине с телефоном в руке. Человек в машине с мобильным телефоном. Женщина, стоящая перед машиной с флагом. Автомобиль припаркован в гараже. Женщина, стоящая перед машиной на стоянке. Женщина, стоящая перед машиной с красным рулем.']}},\n",
       " {'_index': 'video-index-3',\n",
       "  '_id': 'MTesA5ABoItb8IbNV0qn',\n",
       "  '_score': 0.8122759,\n",
       "  '_ignored': ['description_ru.keyword'],\n",
       "  '_source': {},\n",
       "  'fields': {'link': ['https://cdn-st.rutubelist.ru/media/01/80/0acbcc8341b5b1fb0c24d29031b9/fhd.mp4'],\n",
       "   'description_ru': ['Человек сидит в машине с тачкой. Человек сидит в автомобильном сиденье с дистанционным управлением. Черная машина, сидящая на парковке. Человек держит мобильный телефон в машине. Дверь автомобиля с человеком в нем. Человек держит в руке мобильный телефон. Человек держит руль в машине. Человек, держащий мобильный телефон в руке. Человек держит в руке пульт дистанционного управления. Белое сиденье на белом автомобильном сиденье. Человек находится в машине машины. Человек держит руку в машине. Автомобильная панель со смартфоном и автомобильным радио.']}},\n",
       " {'_index': 'video-index-3',\n",
       "  '_id': 'rTesA5ABoItb8IbNc0q3',\n",
       "  '_score': 0.8122759,\n",
       "  '_source': {},\n",
       "  'fields': {'link': ['https://cdn-st.rutubelist.ru/media/02/d7/cc9b56ea4c54a4de2c624bccae98/fhd.mp4'],\n",
       "   'description_ru': ['Человек в машине с головой в окне.']}},\n",
       " {'_index': 'video-index-3',\n",
       "  '_id': 'szetA5ABoItb8IbN4lBD',\n",
       "  '_score': 0.8122759,\n",
       "  '_source': {},\n",
       "  'fields': {'link': ['https://cdn-st.rutubelist.ru/media/03/d1/2f7d4aab4b02b183904f76f146f3/fhd.mp4'],\n",
       "   'description_ru': ['Синий автомобиль припарковался в гараже рядом с синей машиной. Белая машина с дверью белой машины на капюшоне. Белая машина припаркована на парковке.']}},\n",
       " {'_index': 'video-index-3',\n",
       "  '_id': '_TetA5ABoItb8IbN_1AO',\n",
       "  '_score': 0.8122759,\n",
       "  '_ignored': ['description_ru.keyword'],\n",
       "  '_source': {},\n",
       "  'fields': {'link': ['https://cdn-st.rutubelist.ru/media/03/dc/37acfb104699962dfc06515a5fc7/fhd.mp4'],\n",
       "   'description_ru': ['Автомобиль едет по шоссе с синей машиной за ним. Мужчина в шлеме и солнцезащитных очках улыбается. Мужчина в черной рубашке и солнцезащитных очках. Мужчина в шлеме и солнцезащитных очках с улыбкой. Мужчина в галстуке и солнцезащитных очках, позирующих для картины. Дверь автомобиля открыта, и на ней сидит лист бумаги. Мужчина в солнцезащитных очках и галстук с улыбкой на лице. Мужчина в шлеме и солнцезащитных очках за рулем машины. Мужчина в солнцезащитных очках и галстук в машине. Человек с бородой и черным галстуком.']}},\n",
       " {'_index': 'video-index-3',\n",
       "  '_id': 'NjetA5ABoItb8IbN_1G2',\n",
       "  '_score': 0.8122759,\n",
       "  '_source': {},\n",
       "  'fields': {'link': ['https://cdn-st.rutubelist.ru/media/03/e7/f9bbe4b94e37ab43078f3d3959ac/fhd.mp4'],\n",
       "   'description_ru': ['Крупный план черно -белой фотографии клавиатуры. Человек в машине, управляющий мотоциклом.']}},\n",
       " {'_index': 'video-index-3',\n",
       "  '_id': '8jeuA5ABoItb8IbNQFEH',\n",
       "  '_score': 0.8122759,\n",
       "  '_source': {},\n",
       "  'fields': {'link': ['https://cdn-st.rutubelist.ru/media/04/09/cf4dacf548b0ab2092e58d0ba023/fhd.mp4'],\n",
       "   'description_ru': ['Белая машина с человеком на заднем сиденье. Человек в белой машине проезжает через парковку. Женщина сидит на скейтборде на улице. Человек, держащий мобильный телефон в руке. Белая машина едет по улице. Женщина стоит перед белой машиной.']}},\n",
       " {'_index': 'video-index-3',\n",
       "  '_id': 'fzeuA5ABoItb8IbNllNm',\n",
       "  '_score': 0.8122759,\n",
       "  '_source': {},\n",
       "  'fields': {'link': ['https://cdn-st.rutubelist.ru/media/00/73/26203d71426c969802fdfedbd165/fhd.mp4'],\n",
       "   'description_ru': ['Человек, едущий на грязном велосипеде по пути. Человек на велосипеде на грунтовой дороге.']}}]"
      ]
     },
     "execution_count": 4,
     "metadata": {},
     "output_type": "execute_result"
    }
   ],
   "execution_count": 4
  },
  {
   "metadata": {},
   "cell_type": "code",
   "outputs": [],
   "execution_count": null,
   "source": "",
   "id": "f3d099b0bd699de6"
  }
 ],
 "metadata": {
  "kernelspec": {
   "display_name": "Python 3",
   "language": "python",
   "name": "python3"
  },
  "language_info": {
   "codemirror_mode": {
    "name": "ipython",
    "version": 2
   },
   "file_extension": ".py",
   "mimetype": "text/x-python",
   "name": "python",
   "nbconvert_exporter": "python",
   "pygments_lexer": "ipython2",
   "version": "2.7.6"
  }
 },
 "nbformat": 4,
 "nbformat_minor": 5
}
