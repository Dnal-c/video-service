{
 "cells": [
  {
   "cell_type": "code",
   "id": "initial_id",
   "metadata": {
    "collapsed": true,
    "ExecuteTime": {
     "end_time": "2024-06-15T09:47:56.514245Z",
     "start_time": "2024-06-15T09:47:53.811313Z"
    }
   },
   "source": [
    "import pandas as pd\n",
    "from elasticsearch import Elasticsearch\n",
    "from elasticsearch import helpers\n",
    "import os\n",
    "\n",
    "csv_path = '../../../resources/union_final.csv'\n",
    "host = os.environ['ELASTIC_HOST']\n",
    "login = os.environ['ELASTIC_LOGIN']\n",
    "password = os.environ['ELASTIC_PASSWORD']\n",
    "es = Elasticsearch(host, basic_auth=(login, password))\n",
    "video_index = 'video-index'\n",
    "batch_size = 100\n",
    "\n",
    "data: pd.DataFrame = pd.read_csv(csv_path, low_memory=False)"
   ],
   "outputs": [
    {
     "name": "stderr",
     "output_type": "stream",
     "text": [
      "/Users/apple/Documents/projects/hackaton-lct-2024/video-service/video-venv/venv/lib/python3.9/site-packages/urllib3/__init__.py:35: NotOpenSSLWarning: urllib3 v2 only supports OpenSSL 1.1.1+, currently the 'ssl' module is compiled with 'LibreSSL 2.8.3'. See: https://github.com/urllib3/urllib3/issues/3020\n",
      "  warnings.warn(\n"
     ]
    }
   ],
   "execution_count": 1
  },
  {
   "metadata": {
    "ExecuteTime": {
     "end_time": "2024-06-15T09:48:02.999604Z",
     "start_time": "2024-06-15T09:47:59.563970Z"
    }
   },
   "cell_type": "code",
   "source": [
    "from transformers import AutoTokenizer, AutoModel\n",
    "import torch\n",
    "\n",
    "print(torch.backends.mps.is_available())\n",
    "device = torch.device(\"mps\")\n",
    "\n",
    "\n",
    "#Mean Pooling - Take attention mask into account for correct averaging\n",
    "def mean_pooling(model_output, attention_mask):\n",
    "    token_embeddings = model_output[0]  #First element of model_output contains all token embeddings\n",
    "    input_mask_expanded = attention_mask.unsqueeze(-1).expand(token_embeddings.size()).float()\n",
    "    sum_embeddings = torch.sum(token_embeddings * input_mask_expanded, 1)\n",
    "    sum_mask = torch.clamp(input_mask_expanded.sum(1), min=1e-9)\n",
    "    return sum_embeddings / sum_mask\n",
    "\n",
    "\n",
    "#Load AutoModel from huggingface model repository\n",
    "tokenizer = AutoTokenizer.from_pretrained(\"ai-forever/sbert_large_nlu_ru\")\n",
    "model = AutoModel.from_pretrained(\"ai-forever/sbert_large_nlu_ru\")\n",
    "model = model.to(device)\n",
    "\n",
    "\n",
    "def calc_vector(text):\n",
    "    #Tokenize sentences\n",
    "    encoded_input = tokenizer(text, padding=True, truncation=True, max_length=10000, return_tensors='pt').to(device)\n",
    "\n",
    "    #Compute token embeddings\n",
    "    with torch.no_grad():\n",
    "        model_output = model(**encoded_input)\n",
    "\n",
    "    #Perform pooling. In this case, mean pooling\n",
    "    sentence_embeddings = mean_pooling(model_output, encoded_input['attention_mask'])\n",
    "    return sentence_embeddings[0].cpu().detach().numpy()\n",
    "\n",
    "\n",
    "len(calc_vector('Привет'))"
   ],
   "id": "344a202bf13caf59",
   "outputs": [
    {
     "name": "stdout",
     "output_type": "stream",
     "text": [
      "True\n"
     ]
    },
    {
     "name": "stderr",
     "output_type": "stream",
     "text": [
      "/Users/apple/Documents/projects/hackaton-lct-2024/video-service/video-venv/venv/lib/python3.9/site-packages/huggingface_hub/file_download.py:1132: FutureWarning: `resume_download` is deprecated and will be removed in version 1.0.0. Downloads always resume when possible. If you want to force a new download, use `force_download=True`.\n",
      "  warnings.warn(\n"
     ]
    },
    {
     "data": {
      "text/plain": [
       "1024"
      ]
     },
     "execution_count": 2,
     "metadata": {},
     "output_type": "execute_result"
    }
   ],
   "execution_count": 2
  },
  {
   "metadata": {
    "ExecuteTime": {
     "end_time": "2024-06-15T11:55:29.461020Z",
     "start_time": "2024-06-15T09:48:27.249388Z"
    }
   },
   "cell_type": "code",
   "source": [
    "def process_data(df: pd.DataFrame):\n",
    "    videos = []\n",
    "    for index, row in df.iterrows():\n",
    "        video = {\n",
    "            'index': row['index'],\n",
    "            'description_ru': row['description_ru'],\n",
    "            'description_ru_vector': calc_vector(row['description_ru']),\n",
    "            'link': row['link'],\n",
    "            'summary': str(row['short_description_ru'] or None)\n",
    "        }\n",
    "\n",
    "        tags = str(row['tags'])\n",
    "        if tags != 'nan':\n",
    "            video['tags'] = tags\n",
    "            video['tags_vector'] = calc_vector(tags)\n",
    "\n",
    "        voice = str(row['text'])\n",
    "        if voice != 'nan':\n",
    "            video['voice'] = voice\n",
    "            video['voice_vector'] = calc_vector(voice)\n",
    "\n",
    "        videos.append(video)\n",
    "    helpers.bulk(es, videos, index=video_index)\n",
    "\n",
    "\n",
    "from concurrent.futures import ThreadPoolExecutor\n",
    "import os\n",
    "\n",
    "os.environ[\"TOKENIZERS_PARALLELISM\"] = \"true\"\n",
    "executor = ThreadPoolExecutor(max_workers=24)\n",
    "\n",
    "data: pd.DataFrame = pd.read_csv(csv_path, low_memory=False)\n",
    "# data = data.loc[0:100]\n",
    "\n",
    "# process_data(data)\n",
    "\n",
    "list_of_dfs = [data.loc[i:i + batch_size - 1, :] for i in range(0, len(data), batch_size)]\n",
    "\n",
    "futures = []\n",
    "for i in range(0, len(list_of_dfs)):\n",
    "    future = executor.submit(process_data, list_of_dfs[i])\n",
    "    futures.append(future)\n",
    "\n",
    "for future in futures:\n",
    "    future.result()\n",
    "\n",
    "executor.shutdown()"
   ],
   "id": "665219e998cc82dd",
   "outputs": [
    {
     "ename": "ValueError",
     "evalue": "text input must be of type `str` (single example), `List[str]` (batch or single pretokenized example) or `List[List[str]]` (batch of pretokenized examples).",
     "output_type": "error",
     "traceback": [
      "\u001B[0;31m---------------------------------------------------------------------------\u001B[0m",
      "\u001B[0;31mValueError\u001B[0m                                Traceback (most recent call last)",
      "Cell \u001B[0;32mIn[3], line 45\u001B[0m\n\u001B[1;32m     42\u001B[0m     futures\u001B[38;5;241m.\u001B[39mappend(future)\n\u001B[1;32m     44\u001B[0m \u001B[38;5;28;01mfor\u001B[39;00m future \u001B[38;5;129;01min\u001B[39;00m futures:\n\u001B[0;32m---> 45\u001B[0m     \u001B[43mfuture\u001B[49m\u001B[38;5;241;43m.\u001B[39;49m\u001B[43mresult\u001B[49m\u001B[43m(\u001B[49m\u001B[43m)\u001B[49m\n\u001B[1;32m     47\u001B[0m executor\u001B[38;5;241m.\u001B[39mshutdown()\n",
      "File \u001B[0;32m/Library/Developer/CommandLineTools/Library/Frameworks/Python3.framework/Versions/3.9/lib/python3.9/concurrent/futures/_base.py:438\u001B[0m, in \u001B[0;36mFuture.result\u001B[0;34m(self, timeout)\u001B[0m\n\u001B[1;32m    436\u001B[0m     \u001B[38;5;28;01mraise\u001B[39;00m CancelledError()\n\u001B[1;32m    437\u001B[0m \u001B[38;5;28;01melif\u001B[39;00m \u001B[38;5;28mself\u001B[39m\u001B[38;5;241m.\u001B[39m_state \u001B[38;5;241m==\u001B[39m FINISHED:\n\u001B[0;32m--> 438\u001B[0m     \u001B[38;5;28;01mreturn\u001B[39;00m \u001B[38;5;28;43mself\u001B[39;49m\u001B[38;5;241;43m.\u001B[39;49m\u001B[43m__get_result\u001B[49m\u001B[43m(\u001B[49m\u001B[43m)\u001B[49m\n\u001B[1;32m    440\u001B[0m \u001B[38;5;28mself\u001B[39m\u001B[38;5;241m.\u001B[39m_condition\u001B[38;5;241m.\u001B[39mwait(timeout)\n\u001B[1;32m    442\u001B[0m \u001B[38;5;28;01mif\u001B[39;00m \u001B[38;5;28mself\u001B[39m\u001B[38;5;241m.\u001B[39m_state \u001B[38;5;129;01min\u001B[39;00m [CANCELLED, CANCELLED_AND_NOTIFIED]:\n",
      "File \u001B[0;32m/Library/Developer/CommandLineTools/Library/Frameworks/Python3.framework/Versions/3.9/lib/python3.9/concurrent/futures/_base.py:390\u001B[0m, in \u001B[0;36mFuture.__get_result\u001B[0;34m(self)\u001B[0m\n\u001B[1;32m    388\u001B[0m \u001B[38;5;28;01mif\u001B[39;00m \u001B[38;5;28mself\u001B[39m\u001B[38;5;241m.\u001B[39m_exception:\n\u001B[1;32m    389\u001B[0m     \u001B[38;5;28;01mtry\u001B[39;00m:\n\u001B[0;32m--> 390\u001B[0m         \u001B[38;5;28;01mraise\u001B[39;00m \u001B[38;5;28mself\u001B[39m\u001B[38;5;241m.\u001B[39m_exception\n\u001B[1;32m    391\u001B[0m     \u001B[38;5;28;01mfinally\u001B[39;00m:\n\u001B[1;32m    392\u001B[0m         \u001B[38;5;66;03m# Break a reference cycle with the exception in self._exception\u001B[39;00m\n\u001B[1;32m    393\u001B[0m         \u001B[38;5;28mself\u001B[39m \u001B[38;5;241m=\u001B[39m \u001B[38;5;28;01mNone\u001B[39;00m\n",
      "File \u001B[0;32m/Library/Developer/CommandLineTools/Library/Frameworks/Python3.framework/Versions/3.9/lib/python3.9/concurrent/futures/thread.py:52\u001B[0m, in \u001B[0;36m_WorkItem.run\u001B[0;34m(self)\u001B[0m\n\u001B[1;32m     49\u001B[0m     \u001B[38;5;28;01mreturn\u001B[39;00m\n\u001B[1;32m     51\u001B[0m \u001B[38;5;28;01mtry\u001B[39;00m:\n\u001B[0;32m---> 52\u001B[0m     result \u001B[38;5;241m=\u001B[39m \u001B[38;5;28;43mself\u001B[39;49m\u001B[38;5;241;43m.\u001B[39;49m\u001B[43mfn\u001B[49m\u001B[43m(\u001B[49m\u001B[38;5;241;43m*\u001B[39;49m\u001B[38;5;28;43mself\u001B[39;49m\u001B[38;5;241;43m.\u001B[39;49m\u001B[43margs\u001B[49m\u001B[43m,\u001B[49m\u001B[43m \u001B[49m\u001B[38;5;241;43m*\u001B[39;49m\u001B[38;5;241;43m*\u001B[39;49m\u001B[38;5;28;43mself\u001B[39;49m\u001B[38;5;241;43m.\u001B[39;49m\u001B[43mkwargs\u001B[49m\u001B[43m)\u001B[49m\n\u001B[1;32m     53\u001B[0m \u001B[38;5;28;01mexcept\u001B[39;00m \u001B[38;5;167;01mBaseException\u001B[39;00m \u001B[38;5;28;01mas\u001B[39;00m exc:\n\u001B[1;32m     54\u001B[0m     \u001B[38;5;28mself\u001B[39m\u001B[38;5;241m.\u001B[39mfuture\u001B[38;5;241m.\u001B[39mset_exception(exc)\n",
      "Cell \u001B[0;32mIn[3], line 7\u001B[0m, in \u001B[0;36mprocess_data\u001B[0;34m(df)\u001B[0m\n\u001B[1;32m      2\u001B[0m videos \u001B[38;5;241m=\u001B[39m []\n\u001B[1;32m      3\u001B[0m \u001B[38;5;28;01mfor\u001B[39;00m index, row \u001B[38;5;129;01min\u001B[39;00m df\u001B[38;5;241m.\u001B[39miterrows():\n\u001B[1;32m      4\u001B[0m     video \u001B[38;5;241m=\u001B[39m {\n\u001B[1;32m      5\u001B[0m         \u001B[38;5;124m'\u001B[39m\u001B[38;5;124mindex\u001B[39m\u001B[38;5;124m'\u001B[39m: row[\u001B[38;5;124m'\u001B[39m\u001B[38;5;124mindex\u001B[39m\u001B[38;5;124m'\u001B[39m],\n\u001B[1;32m      6\u001B[0m         \u001B[38;5;124m'\u001B[39m\u001B[38;5;124mdescription_ru\u001B[39m\u001B[38;5;124m'\u001B[39m: row[\u001B[38;5;124m'\u001B[39m\u001B[38;5;124mdescription_ru\u001B[39m\u001B[38;5;124m'\u001B[39m],\n\u001B[0;32m----> 7\u001B[0m         \u001B[38;5;124m'\u001B[39m\u001B[38;5;124mdescription_ru_vector\u001B[39m\u001B[38;5;124m'\u001B[39m: \u001B[43mcalc_vector\u001B[49m\u001B[43m(\u001B[49m\u001B[43mrow\u001B[49m\u001B[43m[\u001B[49m\u001B[38;5;124;43m'\u001B[39;49m\u001B[38;5;124;43mdescription_ru\u001B[39;49m\u001B[38;5;124;43m'\u001B[39;49m\u001B[43m]\u001B[49m\u001B[43m)\u001B[49m,\n\u001B[1;32m      8\u001B[0m         \u001B[38;5;124m'\u001B[39m\u001B[38;5;124mlink\u001B[39m\u001B[38;5;124m'\u001B[39m: row[\u001B[38;5;124m'\u001B[39m\u001B[38;5;124mlink\u001B[39m\u001B[38;5;124m'\u001B[39m],\n\u001B[1;32m      9\u001B[0m         \u001B[38;5;124m'\u001B[39m\u001B[38;5;124msummary\u001B[39m\u001B[38;5;124m'\u001B[39m: \u001B[38;5;28mstr\u001B[39m(row[\u001B[38;5;124m'\u001B[39m\u001B[38;5;124mshort_description_ru\u001B[39m\u001B[38;5;124m'\u001B[39m] \u001B[38;5;129;01mor\u001B[39;00m \u001B[38;5;28;01mNone\u001B[39;00m)\n\u001B[1;32m     10\u001B[0m     }\n\u001B[1;32m     12\u001B[0m     tags \u001B[38;5;241m=\u001B[39m \u001B[38;5;28mstr\u001B[39m(row[\u001B[38;5;124m'\u001B[39m\u001B[38;5;124mtags\u001B[39m\u001B[38;5;124m'\u001B[39m])\n\u001B[1;32m     13\u001B[0m     \u001B[38;5;28;01mif\u001B[39;00m tags \u001B[38;5;241m!=\u001B[39m \u001B[38;5;124m'\u001B[39m\u001B[38;5;124mnan\u001B[39m\u001B[38;5;124m'\u001B[39m:\n",
      "Cell \u001B[0;32mIn[2], line 25\u001B[0m, in \u001B[0;36mcalc_vector\u001B[0;34m(text)\u001B[0m\n\u001B[1;32m     23\u001B[0m \u001B[38;5;28;01mdef\u001B[39;00m \u001B[38;5;21mcalc_vector\u001B[39m(text):\n\u001B[1;32m     24\u001B[0m     \u001B[38;5;66;03m#Tokenize sentences\u001B[39;00m\n\u001B[0;32m---> 25\u001B[0m     encoded_input \u001B[38;5;241m=\u001B[39m \u001B[43mtokenizer\u001B[49m\u001B[43m(\u001B[49m\u001B[43mtext\u001B[49m\u001B[43m,\u001B[49m\u001B[43m \u001B[49m\u001B[43mpadding\u001B[49m\u001B[38;5;241;43m=\u001B[39;49m\u001B[38;5;28;43;01mTrue\u001B[39;49;00m\u001B[43m,\u001B[49m\u001B[43m \u001B[49m\u001B[43mtruncation\u001B[49m\u001B[38;5;241;43m=\u001B[39;49m\u001B[38;5;28;43;01mTrue\u001B[39;49;00m\u001B[43m,\u001B[49m\u001B[43m \u001B[49m\u001B[43mmax_length\u001B[49m\u001B[38;5;241;43m=\u001B[39;49m\u001B[38;5;241;43m10000\u001B[39;49m\u001B[43m,\u001B[49m\u001B[43m \u001B[49m\u001B[43mreturn_tensors\u001B[49m\u001B[38;5;241;43m=\u001B[39;49m\u001B[38;5;124;43m'\u001B[39;49m\u001B[38;5;124;43mpt\u001B[39;49m\u001B[38;5;124;43m'\u001B[39;49m\u001B[43m)\u001B[49m\u001B[38;5;241m.\u001B[39mto(device)\n\u001B[1;32m     27\u001B[0m     \u001B[38;5;66;03m#Compute token embeddings\u001B[39;00m\n\u001B[1;32m     28\u001B[0m     \u001B[38;5;28;01mwith\u001B[39;00m torch\u001B[38;5;241m.\u001B[39mno_grad():\n",
      "File \u001B[0;32m~/Documents/projects/hackaton-lct-2024/video-service/video-venv/venv/lib/python3.9/site-packages/transformers/tokenization_utils_base.py:2872\u001B[0m, in \u001B[0;36mPreTrainedTokenizerBase.__call__\u001B[0;34m(self, text, text_pair, text_target, text_pair_target, add_special_tokens, padding, truncation, max_length, stride, is_split_into_words, pad_to_multiple_of, return_tensors, return_token_type_ids, return_attention_mask, return_overflowing_tokens, return_special_tokens_mask, return_offsets_mapping, return_length, verbose, **kwargs)\u001B[0m\n\u001B[1;32m   2870\u001B[0m     \u001B[38;5;28;01mif\u001B[39;00m \u001B[38;5;129;01mnot\u001B[39;00m \u001B[38;5;28mself\u001B[39m\u001B[38;5;241m.\u001B[39m_in_target_context_manager:\n\u001B[1;32m   2871\u001B[0m         \u001B[38;5;28mself\u001B[39m\u001B[38;5;241m.\u001B[39m_switch_to_input_mode()\n\u001B[0;32m-> 2872\u001B[0m     encodings \u001B[38;5;241m=\u001B[39m \u001B[38;5;28;43mself\u001B[39;49m\u001B[38;5;241;43m.\u001B[39;49m\u001B[43m_call_one\u001B[49m\u001B[43m(\u001B[49m\u001B[43mtext\u001B[49m\u001B[38;5;241;43m=\u001B[39;49m\u001B[43mtext\u001B[49m\u001B[43m,\u001B[49m\u001B[43m \u001B[49m\u001B[43mtext_pair\u001B[49m\u001B[38;5;241;43m=\u001B[39;49m\u001B[43mtext_pair\u001B[49m\u001B[43m,\u001B[49m\u001B[43m \u001B[49m\u001B[38;5;241;43m*\u001B[39;49m\u001B[38;5;241;43m*\u001B[39;49m\u001B[43mall_kwargs\u001B[49m\u001B[43m)\u001B[49m\n\u001B[1;32m   2873\u001B[0m \u001B[38;5;28;01mif\u001B[39;00m text_target \u001B[38;5;129;01mis\u001B[39;00m \u001B[38;5;129;01mnot\u001B[39;00m \u001B[38;5;28;01mNone\u001B[39;00m:\n\u001B[1;32m   2874\u001B[0m     \u001B[38;5;28mself\u001B[39m\u001B[38;5;241m.\u001B[39m_switch_to_target_mode()\n",
      "File \u001B[0;32m~/Documents/projects/hackaton-lct-2024/video-service/video-venv/venv/lib/python3.9/site-packages/transformers/tokenization_utils_base.py:2930\u001B[0m, in \u001B[0;36mPreTrainedTokenizerBase._call_one\u001B[0;34m(self, text, text_pair, add_special_tokens, padding, truncation, max_length, stride, is_split_into_words, pad_to_multiple_of, return_tensors, return_token_type_ids, return_attention_mask, return_overflowing_tokens, return_special_tokens_mask, return_offsets_mapping, return_length, verbose, **kwargs)\u001B[0m\n\u001B[1;32m   2927\u001B[0m         \u001B[38;5;28;01mreturn\u001B[39;00m \u001B[38;5;28;01mFalse\u001B[39;00m\n\u001B[1;32m   2929\u001B[0m \u001B[38;5;28;01mif\u001B[39;00m \u001B[38;5;129;01mnot\u001B[39;00m _is_valid_text_input(text):\n\u001B[0;32m-> 2930\u001B[0m     \u001B[38;5;28;01mraise\u001B[39;00m \u001B[38;5;167;01mValueError\u001B[39;00m(\n\u001B[1;32m   2931\u001B[0m         \u001B[38;5;124m\"\u001B[39m\u001B[38;5;124mtext input must be of type `str` (single example), `List[str]` (batch or single pretokenized example) \u001B[39m\u001B[38;5;124m\"\u001B[39m\n\u001B[1;32m   2932\u001B[0m         \u001B[38;5;124m\"\u001B[39m\u001B[38;5;124mor `List[List[str]]` (batch of pretokenized examples).\u001B[39m\u001B[38;5;124m\"\u001B[39m\n\u001B[1;32m   2933\u001B[0m     )\n\u001B[1;32m   2935\u001B[0m \u001B[38;5;28;01mif\u001B[39;00m text_pair \u001B[38;5;129;01mis\u001B[39;00m \u001B[38;5;129;01mnot\u001B[39;00m \u001B[38;5;28;01mNone\u001B[39;00m \u001B[38;5;129;01mand\u001B[39;00m \u001B[38;5;129;01mnot\u001B[39;00m _is_valid_text_input(text_pair):\n\u001B[1;32m   2936\u001B[0m     \u001B[38;5;28;01mraise\u001B[39;00m \u001B[38;5;167;01mValueError\u001B[39;00m(\n\u001B[1;32m   2937\u001B[0m         \u001B[38;5;124m\"\u001B[39m\u001B[38;5;124mtext input must be of type `str` (single example), `List[str]` (batch or single pretokenized example) \u001B[39m\u001B[38;5;124m\"\u001B[39m\n\u001B[1;32m   2938\u001B[0m         \u001B[38;5;124m\"\u001B[39m\u001B[38;5;124mor `List[List[str]]` (batch of pretokenized examples).\u001B[39m\u001B[38;5;124m\"\u001B[39m\n\u001B[1;32m   2939\u001B[0m     )\n",
      "\u001B[0;31mValueError\u001B[0m: text input must be of type `str` (single example), `List[str]` (batch or single pretokenized example) or `List[List[str]]` (batch of pretokenized examples)."
     ]
    }
   ],
   "execution_count": 3
  },
  {
   "metadata": {
    "ExecuteTime": {
     "end_time": "2024-06-15T22:05:59.187086Z",
     "start_time": "2024-06-15T22:05:59.085131Z"
    }
   },
   "cell_type": "code",
   "source": [
    "text = 'тачки'\n",
    "text_vector = calc_vector(text)\n",
    "\n",
    "multi_query = {\n",
    "    \"knn\": [\n",
    "        {\n",
    "            \"field\": \"description_ru_vector\",\n",
    "            \"query_vector\": text_vector,\n",
    "            \"k\": 10,\n",
    "            \"boost\": 1\n",
    "        },\n",
    "        {\n",
    "            \"field\": \"tags_vector\",\n",
    "            \"query_vector\": text_vector,\n",
    "            \"k\": 10,\n",
    "            \"boost\": 0.85\n",
    "        },\n",
    "        {\n",
    "            \"field\": \"voice_vector\",\n",
    "            \"query_vector\": text_vector,\n",
    "            \"k\": 10,\n",
    "            \"boost\": 0.35\n",
    "        }\n",
    "    ],\n",
    "    'fields': ['description_ru', 'tags', 'link'],\n",
    "    '_source': 'false'\n",
    "}\n",
    "\n",
    "response = es.search(index=\"video-index\", body=multi_query)\n",
    "items = response['hits']['hits']\n",
    "items"
   ],
   "id": "c319705258b72cba",
   "outputs": [
    {
     "data": {
      "text/plain": [
       "[{'_index': 'video-index',\n",
       "  '_id': 'Sj3IG5ABoItb8IbNRk3S',\n",
       "  '_score': 0.8367896,\n",
       "  '_source': {},\n",
       "  'fields': {'link': ['https://cdn-st.rutubelist.ru/media/95/44/66f790204ea78901b17d890a1e60/fhd.mp4'],\n",
       "   'description_ru': ['Машина с человеком на заднем сиденье и мотоцикл на заднем сиденье.'],\n",
       "   'tags': ['#boobs , #красивыедевушки , #ass']}},\n",
       " {'_index': 'video-index',\n",
       "  '_id': 'nTyfG5ABoItb8IbNFEsP',\n",
       "  '_score': 0.83467627,\n",
       "  '_source': {},\n",
       "  'fields': {'link': ['https://cdn-st.rutubelist.ru/media/74/dd/8d140dc64ffcb151f520ec5dea5c/fhd.mp4'],\n",
       "   'description_ru': ['Карусель машин и грузовиков в гараже.'],\n",
       "   'tags': ['#тачки #машины #обзоравто']}},\n",
       " {'_index': 'video-index',\n",
       "  '_id': '-TptG5ABoItb8IbNIfkQ',\n",
       "  '_score': 0.8152423,\n",
       "  '_source': {},\n",
       "  'fields': {'link': ['https://cdn-st.rutubelist.ru/media/84/89/587c358546828bf85732a0e3cae5/fhd.mp4'],\n",
       "   'description_ru': ['Автомобиль с красной и белой машиной на нем.'],\n",
       "   'tags': ['#спорт #наспорте #футбол #прикол']}},\n",
       " {'_index': 'video-index',\n",
       "  '_id': 'Vjt1G5ABoItb8IbNyTZm',\n",
       "  '_score': 0.81064224,\n",
       "  '_source': {},\n",
       "  'fields': {'link': ['https://cdn-st.rutubelist.ru/media/2e/52/cca9fbb9455c87efad8bef4323c8/fhd.mp4'],\n",
       "   'description_ru': ['Желтый автомобиль, припаркованный на стоянке.'],\n",
       "   'tags': ['#тачки #машины #обзоравто']}},\n",
       " {'_index': 'video-index',\n",
       "  '_id': '_DyiG5ABoItb8IbN62WI',\n",
       "  '_score': 0.8070588,\n",
       "  '_source': {},\n",
       "  'fields': {'link': ['https://cdn-st.rutubelist.ru/media/79/1b/aa16b3684a37801a9fc993102773/fhd.mp4'],\n",
       "   'description_ru': ['Автомобиль с большой шиной на вершине. Машина с машиной на заднем сиденье.'],\n",
       "   'tags': ['#тачки #машины #обзоравто']}},\n",
       " {'_index': 'video-index',\n",
       "  '_id': 'JjyzG5ABoItb8IbNb9aQ',\n",
       "  '_score': 0.8059764,\n",
       "  '_source': {},\n",
       "  'fields': {'link': ['https://cdn-st.rutubelist.ru/media/19/4f/5cdc45884c10bac10e7e5a4e1144/fhd.mp4'],\n",
       "   'description_ru': ['Автомобиль, припаркованный в гараже рядом с автомобилем.'],\n",
       "   'tags': ['#авто #auto #тачки #тюнинг']}},\n",
       " {'_index': 'video-index',\n",
       "  '_id': 'oj3FG5ABoItb8IbNUzmN',\n",
       "  '_score': 0.8037982,\n",
       "  '_source': {},\n",
       "  'fields': {'link': ['https://cdn-st.rutubelist.ru/media/92/26/a314cf1240279f94f17d72728cc5/fhd.mp4'],\n",
       "   'description_ru': ['Автомобиль с мотоциклом на задней панели. Автомобиль с белой машиной на задней панели.'],\n",
       "   'tags': ['#тачки #машины #обзоравто']}},\n",
       " {'_index': 'video-index',\n",
       "  '_id': 'Vz29G5ABoItb8IbNbQsR',\n",
       "  '_score': 0.8024874,\n",
       "  '_source': {},\n",
       "  'fields': {'link': ['https://cdn-st.rutubelist.ru/media/0d/a9/4f0c1ab34113ad9d856788368565/fhd.mp4'],\n",
       "   'description_ru': ['Черный грузовик, припаркованный на стоянке.'],\n",
       "   'tags': ['#тачки #машины #обзоравто']}},\n",
       " {'_index': 'video-index',\n",
       "  '_id': 'ojyyG5ABoItb8IbNNM0M',\n",
       "  '_score': 0.80247164,\n",
       "  '_source': {},\n",
       "  'fields': {'link': ['https://cdn-st.rutubelist.ru/media/18/06/0427be224dfc80f912e3847480f6/fhd.mp4'],\n",
       "   'description_ru': ['Машина с большим окном и маленькая машинка сзади. Белый грузовик, припаркованный в гараже.'],\n",
       "   'tags': ['#тачки #машины #обзоравто']}},\n",
       " {'_index': 'video-index',\n",
       "  '_id': '_Ty0G5ABoItb8IbNtt2T',\n",
       "  '_score': 0.8019147,\n",
       "  '_source': {},\n",
       "  'fields': {'link': ['https://cdn-st.rutubelist.ru/media/1a/b3/c8c27d43484ea718a192acfb3371/fhd.mp4'],\n",
       "   'description_ru': ['Черный грузовик, припаркованный на стоянке.'],\n",
       "   'tags': ['#тачки #машины #обзоравто']}}]"
      ]
     },
     "execution_count": 9,
     "metadata": {},
     "output_type": "execute_result"
    }
   ],
   "execution_count": 9
  },
  {
   "metadata": {},
   "cell_type": "code",
   "outputs": [],
   "execution_count": null,
   "source": "",
   "id": "f3d099b0bd699de6"
  }
 ],
 "metadata": {
  "kernelspec": {
   "display_name": "Python 3",
   "language": "python",
   "name": "python3"
  },
  "language_info": {
   "codemirror_mode": {
    "name": "ipython",
    "version": 2
   },
   "file_extension": ".py",
   "mimetype": "text/x-python",
   "name": "python",
   "nbconvert_exporter": "python",
   "pygments_lexer": "ipython2",
   "version": "2.7.6"
  }
 },
 "nbformat": 4,
 "nbformat_minor": 5
}
