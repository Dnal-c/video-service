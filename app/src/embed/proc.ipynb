{
 "cells": [
  {
   "cell_type": "code",
   "id": "initial_id",
   "metadata": {
    "collapsed": true,
    "ExecuteTime": {
     "end_time": "2024-06-15T09:39:49.196015Z",
     "start_time": "2024-06-15T09:39:46.465453Z"
    }
   },
   "source": [
    "import pandas as pd\n",
    "from elasticsearch import Elasticsearch\n",
    "from elasticsearch import helpers\n",
    "\n",
    "csv_path = '../../../resources/union_final.csv'\n",
    "es = Elasticsearch('http://87.242.93.110:9200', basic_auth=('elastic', 'T86zNAvyHwbAr4S'))\n",
    "video_index = 'video-index'\n",
    "batch_size = 100\n",
    "\n",
    "data: pd.DataFrame = pd.read_csv(csv_path, low_memory=False)"
   ],
   "outputs": [
    {
     "name": "stderr",
     "output_type": "stream",
     "text": [
      "/Users/apple/Documents/projects/hackaton-lct-2024/video-service/video-venv/venv/lib/python3.9/site-packages/urllib3/__init__.py:35: NotOpenSSLWarning: urllib3 v2 only supports OpenSSL 1.1.1+, currently the 'ssl' module is compiled with 'LibreSSL 2.8.3'. See: https://github.com/urllib3/urllib3/issues/3020\n",
      "  warnings.warn(\n"
     ]
    }
   ],
   "execution_count": 2
  },
  {
   "metadata": {
    "ExecuteTime": {
     "end_time": "2024-06-15T09:39:53.727274Z",
     "start_time": "2024-06-15T09:39:49.698298Z"
    }
   },
   "cell_type": "code",
   "source": [
    "from transformers import AutoTokenizer, AutoModel\n",
    "import torch\n",
    "\n",
    "print(torch.backends.mps.is_available())\n",
    "device = torch.device(\"mps\")\n",
    "\n",
    "\n",
    "#Mean Pooling - Take attention mask into account for correct averaging\n",
    "def mean_pooling(model_output, attention_mask):\n",
    "    token_embeddings = model_output[0]  #First element of model_output contains all token embeddings\n",
    "    input_mask_expanded = attention_mask.unsqueeze(-1).expand(token_embeddings.size()).float()\n",
    "    sum_embeddings = torch.sum(token_embeddings * input_mask_expanded, 1)\n",
    "    sum_mask = torch.clamp(input_mask_expanded.sum(1), min=1e-9)\n",
    "    return sum_embeddings / sum_mask\n",
    "\n",
    "\n",
    "#Load AutoModel from huggingface model repository\n",
    "tokenizer = AutoTokenizer.from_pretrained(\"ai-forever/sbert_large_nlu_ru\")\n",
    "model = AutoModel.from_pretrained(\"ai-forever/sbert_large_nlu_ru\")\n",
    "model = model.to(device)\n",
    "\n",
    "\n",
    "def calc_vector(text):\n",
    "    #Tokenize sentences\n",
    "    encoded_input = tokenizer(text, padding=True, truncation=True, max_length=10000, return_tensors='pt').to(device)\n",
    "\n",
    "    #Compute token embeddings\n",
    "    with torch.no_grad():\n",
    "        model_output = model(**encoded_input)\n",
    "\n",
    "    #Perform pooling. In this case, mean pooling\n",
    "    sentence_embeddings = mean_pooling(model_output, encoded_input['attention_mask'])\n",
    "    return sentence_embeddings[0].cpu().detach().numpy()\n",
    "\n",
    "\n",
    "len(calc_vector('Привет'))"
   ],
   "id": "344a202bf13caf59",
   "outputs": [
    {
     "name": "stdout",
     "output_type": "stream",
     "text": [
      "True\n"
     ]
    },
    {
     "name": "stderr",
     "output_type": "stream",
     "text": [
      "/Users/apple/Documents/projects/hackaton-lct-2024/video-service/video-venv/venv/lib/python3.9/site-packages/huggingface_hub/file_download.py:1132: FutureWarning: `resume_download` is deprecated and will be removed in version 1.0.0. Downloads always resume when possible. If you want to force a new download, use `force_download=True`.\n",
      "  warnings.warn(\n"
     ]
    },
    {
     "data": {
      "text/plain": [
       "1024"
      ]
     },
     "execution_count": 3,
     "metadata": {},
     "output_type": "execute_result"
    }
   ],
   "execution_count": 3
  },
  {
   "metadata": {
    "jupyter": {
     "is_executing": true
    },
    "ExecuteTime": {
     "start_time": "2024-06-15T09:39:55.526099Z"
    }
   },
   "cell_type": "code",
   "source": [
    "def process_data(df: pd.DataFrame):\n",
    "    videos = []\n",
    "    for index, row in df.iterrows():\n",
    "        video = {\n",
    "            'index': row['index'],\n",
    "            'description_ru': row['description_ru'],\n",
    "            'description_ru_vector': calc_vector(row['description_ru']),\n",
    "            'link': row['link'],\n",
    "            'summary': str(row['short_description_ru'] or None)\n",
    "        }\n",
    "\n",
    "        tags = str(row['tags'])\n",
    "        if tags != 'nan':\n",
    "            video['tags'] = tags\n",
    "            video['tags_vector'] = calc_vector(tags)\n",
    "\n",
    "        voice = str(row['text'])\n",
    "        if voice != 'nan':\n",
    "            video['voice'] = voice\n",
    "            video['voice_vector'] = calc_vector(voice)\n",
    "\n",
    "        videos.append(video)\n",
    "    helpers.bulk(es, videos, index=video_index)\n",
    "\n",
    "\n",
    "from concurrent.futures import ThreadPoolExecutor\n",
    "import os\n",
    "\n",
    "os.environ[\"TOKENIZERS_PARALLELISM\"] = \"true\"\n",
    "executor = ThreadPoolExecutor(max_workers=24)\n",
    "\n",
    "data: pd.DataFrame = pd.read_csv(csv_path, low_memory=False)\n",
    "# data = data.loc[0:100]\n",
    "\n",
    "# process_data(data)\n",
    "\n",
    "list_of_dfs = [data.loc[i:i + batch_size - 1, :] for i in range(0, len(data), batch_size)]\n",
    "\n",
    "futures = []\n",
    "for i in range(0, len(list_of_dfs)):\n",
    "    future = executor.submit(process_data, list_of_dfs[i])\n",
    "    futures.append(future)\n",
    "\n",
    "for future in futures:\n",
    "    future.result()\n",
    "\n",
    "executor.shutdown()"
   ],
   "id": "665219e998cc82dd",
   "outputs": [],
   "execution_count": null
  },
  {
   "metadata": {
    "ExecuteTime": {
     "end_time": "2024-06-15T09:36:40.326110Z",
     "start_time": "2024-06-15T09:36:40.228912Z"
    }
   },
   "cell_type": "code",
   "source": [
    "text = 'тачки'\n",
    "text_vector = calc_vector(text)\n",
    "\n",
    "multi_query = {\n",
    "    \"knn\": [\n",
    "        {\n",
    "            \"field\": \"description_ru_vector\",\n",
    "            \"query_vector\": text_vector,\n",
    "            \"k\": 10,\n",
    "            \"boost\": 0\n",
    "        },\n",
    "        {\n",
    "            \"field\": \"tags_vector\",\n",
    "            \"query_vector\": text_vector,\n",
    "            \"k\": 10,\n",
    "            \"boost\": 1\n",
    "        },\n",
    "        {\n",
    "            \"field\": \"voice_vector\",\n",
    "            \"query_vector\": text_vector,\n",
    "            \"k\": 10,\n",
    "            \"boost\": 0\n",
    "        }\n",
    "    ],\n",
    "    'fields': ['description_ru', 'tags', 'link'],\n",
    "    '_source': 'false'\n",
    "}\n",
    "\n",
    "response = es.search(index=\"video-index\", body=multi_query)\n",
    "items = response['hits']['hits']\n",
    "items"
   ],
   "id": "c319705258b72cba",
   "outputs": [
    {
     "data": {
      "text/plain": [
       "[{'_index': 'video-index',\n",
       "  '_id': 'zDozG5ABoItb8IbNmhSf',\n",
       "  '_score': 0.81202555,\n",
       "  '_source': {},\n",
       "  'fields': {'link': ['https://cdn-st.rutubelist.ru/media/1c/c3/a87c36804fd68f7b4f00d9bf7dd9/fhd.mp4'],\n",
       "   'description_ru': ['Автомобиль едет по улице с машиной на заднем плане. Автомобиль едет по улице рядом с деревом. Уличный знак на шесте в городе.'],\n",
       "   'tags': ['#тачки #машины #обзоравто']}},\n",
       " {'_index': 'video-index',\n",
       "  '_id': '0TozG5ABoItb8IbNmhSf',\n",
       "  '_score': 0.81202555,\n",
       "  '_source': {},\n",
       "  'fields': {'link': ['https://cdn-st.rutubelist.ru/media/1c/c4/aecc773349e78983bcdbcc81382c/fhd.mp4'],\n",
       "   'description_ru': ['Черный автомобиль припарковался на парковке.'],\n",
       "   'tags': ['#тачки #машины #обзоравто']}},\n",
       " {'_index': 'video-index',\n",
       "  '_id': '4DozG5ABoItb8IbNmhSf',\n",
       "  '_score': 0.81202555,\n",
       "  '_source': {},\n",
       "  'fields': {'link': ['https://cdn-st.rutubelist.ru/media/1c/c8/39c70c5141e78e6ca24ec08b39c7/fhd.mp4'],\n",
       "   'description_ru': ['Человек, сидящий на скейтборде в комнате. Женщина, стоящая на стоянке рядом с желтой машиной. Человек, стоящий перед желтой машиной. Человек, сидящий на скамейке с мобильным телефоном.'],\n",
       "   'tags': ['#тачки #машины #обзоравто']}},\n",
       " {'_index': 'video-index',\n",
       "  '_id': 'MTozG5ABoItb8IbN6RUj',\n",
       "  '_score': 0.81202555,\n",
       "  '_source': {},\n",
       "  'fields': {'link': ['https://cdn-st.rutubelist.ru/media/1c/c3/a87c36804fd68f7b4f00d9bf7dd9/fhd.mp4'],\n",
       "   'description_ru': ['Автомобиль едет по улице с машиной на заднем плане. Автомобиль едет по улице рядом с деревом. Уличный знак на шесте в городе.'],\n",
       "   'tags': ['#тачки #машины #обзоравто']}},\n",
       " {'_index': 'video-index',\n",
       "  '_id': 'NjozG5ABoItb8IbN6RUj',\n",
       "  '_score': 0.81202555,\n",
       "  '_source': {},\n",
       "  'fields': {'link': ['https://cdn-st.rutubelist.ru/media/1c/c4/aecc773349e78983bcdbcc81382c/fhd.mp4'],\n",
       "   'description_ru': ['Черный автомобиль припарковался на парковке.'],\n",
       "   'tags': ['#тачки #машины #обзоравто']}},\n",
       " {'_index': 'video-index',\n",
       "  '_id': 'RTozG5ABoItb8IbN6RUj',\n",
       "  '_score': 0.81202555,\n",
       "  '_source': {},\n",
       "  'fields': {'link': ['https://cdn-st.rutubelist.ru/media/1c/c8/39c70c5141e78e6ca24ec08b39c7/fhd.mp4'],\n",
       "   'description_ru': ['Человек, сидящий на скейтборде в комнате. Женщина, стоящая на стоянке рядом с желтой машиной. Человек, стоящий перед желтой машиной. Человек, сидящий на скамейке с мобильным телефоном.'],\n",
       "   'tags': ['#тачки #машины #обзоравто']}},\n",
       " {'_index': 'video-index',\n",
       "  '_id': '5jozG5ABoItb8IbNmhSf',\n",
       "  '_score': 0.77695274,\n",
       "  '_source': {},\n",
       "  'fields': {'link': ['https://cdn-st.rutubelist.ru/media/1c/c9/1aaff4a54c6eace528290995e34e/fhd.mp4'],\n",
       "   'description_ru': ['Автомобиль с большим количеством колес и множеством зеркал. Размытое фото размытого фото машины. Изображение мобильного телефона в машине. Вид на автомобильную панель с часами на стороне.'],\n",
       "   'tags': ['#авто #auto #vehicle #тачки #bmw']}},\n",
       " {'_index': 'video-index',\n",
       "  '_id': 'SzozG5ABoItb8IbN6RUj',\n",
       "  '_score': 0.77695274,\n",
       "  '_source': {},\n",
       "  'fields': {'link': ['https://cdn-st.rutubelist.ru/media/1c/c9/1aaff4a54c6eace528290995e34e/fhd.mp4'],\n",
       "   'description_ru': ['Автомобиль с большим количеством колес и множеством зеркал. Размытое фото размытого фото машины. Изображение мобильного телефона в машине. Вид на автомобильную панель с часами на стороне.'],\n",
       "   'tags': ['#авто #auto #vehicle #тачки #bmw']}},\n",
       " {'_index': 'video-index',\n",
       "  '_id': 'BjozG5ABoItb8IbNmhWf',\n",
       "  '_score': 0.74202967,\n",
       "  '_source': {},\n",
       "  'fields': {'link': ['https://cdn-st.rutubelist.ru/media/1c/cd/d9ccb68c405e8bcaca0d90d3bac6/fhd.mp4'],\n",
       "   'description_ru': ['Мужчина в красной рубашке и солнцезащитные очки, глядя на солнце. Автомобиль едет по шоссе с знаком на стороне.'],\n",
       "   'tags': ['#авто #auto #vehicle #тачки #bmw #обзоравто']}},\n",
       " {'_index': 'video-index',\n",
       "  '_id': 'azozG5ABoItb8IbN6RUj',\n",
       "  '_score': 0.74202967,\n",
       "  '_source': {},\n",
       "  'fields': {'link': ['https://cdn-st.rutubelist.ru/media/1c/cd/d9ccb68c405e8bcaca0d90d3bac6/fhd.mp4'],\n",
       "   'description_ru': ['Мужчина в красной рубашке и солнцезащитные очки, глядя на солнце. Автомобиль едет по шоссе с знаком на стороне.'],\n",
       "   'tags': ['#авто #auto #vehicle #тачки #bmw #обзоравто']}}]"
      ]
     },
     "execution_count": 15,
     "metadata": {},
     "output_type": "execute_result"
    }
   ],
   "execution_count": 15
  },
  {
   "metadata": {},
   "cell_type": "code",
   "outputs": [],
   "execution_count": null,
   "source": "",
   "id": "f3d099b0bd699de6"
  }
 ],
 "metadata": {
  "kernelspec": {
   "display_name": "Python 3",
   "language": "python",
   "name": "python3"
  },
  "language_info": {
   "codemirror_mode": {
    "name": "ipython",
    "version": 2
   },
   "file_extension": ".py",
   "mimetype": "text/x-python",
   "name": "python",
   "nbconvert_exporter": "python",
   "pygments_lexer": "ipython2",
   "version": "2.7.6"
  }
 },
 "nbformat": 4,
 "nbformat_minor": 5
}
