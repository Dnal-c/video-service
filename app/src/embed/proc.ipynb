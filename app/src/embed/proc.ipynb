{
 "cells": [
  {
   "cell_type": "code",
   "id": "initial_id",
   "metadata": {
    "collapsed": true,
    "ExecuteTime": {
     "end_time": "2024-06-11T17:44:45.698522Z",
     "start_time": "2024-06-11T17:44:44.405609Z"
    }
   },
   "source": [
    "import pandas as pd\n",
    "from elasticsearch import Elasticsearch\n",
    "from elasticsearch import helpers\n",
    "\n",
    "csv_path = '../../../resources/union_4.csv'\n",
    "es = Elasticsearch('http://87.242.93.110:9200', basic_auth=('elastic', 'T86zNAvyHwbAr4S'))\n",
    "video_index = 'video-index-3'\n",
    "batch_size = 10\n",
    "\n",
    "data: pd.DataFrame = pd.read_csv(csv_path)\n"
   ],
   "outputs": [
    {
     "name": "stderr",
     "output_type": "stream",
     "text": [
      "/Users/apple/Documents/projects/hackaton-lct-2024/video-service/video-venv/venv/lib/python3.9/site-packages/urllib3/__init__.py:35: NotOpenSSLWarning: urllib3 v2 only supports OpenSSL 1.1.1+, currently the 'ssl' module is compiled with 'LibreSSL 2.8.3'. See: https://github.com/urllib3/urllib3/issues/3020\n",
      "  warnings.warn(\n"
     ]
    }
   ],
   "execution_count": 1
  },
  {
   "metadata": {
    "ExecuteTime": {
     "end_time": "2024-06-11T17:45:27.038735Z",
     "start_time": "2024-06-11T17:45:21.740934Z"
    }
   },
   "cell_type": "code",
   "source": [
    "from transformers import AutoTokenizer, AutoModel\n",
    "import torch\n",
    "\n",
    "print(torch.backends.mps.is_available())\n",
    "device = torch.device(\"mps\")\n",
    "\n",
    "\n",
    "#Mean Pooling - Take attention mask into account for correct averaging\n",
    "def mean_pooling(model_output, attention_mask):\n",
    "    token_embeddings = model_output[0]  #First element of model_output contains all token embeddings\n",
    "    input_mask_expanded = attention_mask.unsqueeze(-1).expand(token_embeddings.size()).float()\n",
    "    sum_embeddings = torch.sum(token_embeddings * input_mask_expanded, 1)\n",
    "    sum_mask = torch.clamp(input_mask_expanded.sum(1), min=1e-9)\n",
    "    return sum_embeddings / sum_mask\n",
    "\n",
    "\n",
    "#Load AutoModel from huggingface model repository\n",
    "tokenizer = AutoTokenizer.from_pretrained(\"ai-forever/sbert_large_nlu_ru\")\n",
    "model = AutoModel.from_pretrained(\"ai-forever/sbert_large_nlu_ru\")\n",
    "model = model.to(device)\n",
    "\n",
    "\n",
    "def get_embedding_3(text):\n",
    "    #Tokenize sentences\n",
    "    encoded_input = tokenizer(text, padding=True, truncation=True, max_length=10000, return_tensors='pt').to(device)\n",
    "\n",
    "    #Compute token embeddings\n",
    "    with torch.no_grad():\n",
    "        model_output = model(**encoded_input)\n",
    "\n",
    "    #Perform pooling. In this case, mean pooling\n",
    "    sentence_embeddings = mean_pooling(model_output, encoded_input['attention_mask'])\n",
    "    return sentence_embeddings[0].cpu().detach().numpy()\n",
    "\n",
    "\n",
    "len(get_embedding_3('Привет'))"
   ],
   "id": "344a202bf13caf59",
   "outputs": [
    {
     "name": "stdout",
     "output_type": "stream",
     "text": [
      "True\n"
     ]
    },
    {
     "data": {
      "text/plain": [
       "1024"
      ]
     },
     "execution_count": 2,
     "metadata": {},
     "output_type": "execute_result"
    }
   ],
   "execution_count": 2
  },
  {
   "metadata": {
    "ExecuteTime": {
     "end_time": "2024-06-11T18:50:18.341093Z",
     "start_time": "2024-06-11T17:45:45.330124Z"
    }
   },
   "cell_type": "code",
   "source": [
    "def process_data(df: pd.DataFrame):\n",
    "    videos = []\n",
    "    for index, row in df.iterrows():\n",
    "        video = {\n",
    "            'description_ru': row['description_ru'],\n",
    "            'description_ru_vector': get_embedding_3(row['description_ru']),\n",
    "            'link': row['link'],\n",
    "            # 'vector': get_embedding_3(row['description_ru'] + ' ' + row['tags'] if isinstance(row['tags'], str) else ''),\n",
    "            'voice_vector': get_embedding_3(str(row['text'] or '')),\n",
    "            'tags_vector': get_embedding_3(str(row['tags'] or '')),\n",
    "        }\n",
    "\n",
    "        # if isinstance(row['text'], str) and len(row['text']) > 0:\n",
    "        #     video['voice_vector'] = get_embedding_3(row['text'])\n",
    "\n",
    "        videos.append(video)\n",
    "    helpers.bulk(es, videos, index=video_index)\n",
    "\n",
    "\n",
    "from concurrent.futures import ThreadPoolExecutor\n",
    "import os\n",
    "\n",
    "os.environ[\"TOKENIZERS_PARALLELISM\"] = \"true\"\n",
    "executor = ThreadPoolExecutor(max_workers=12)\n",
    "\n",
    "# data: pd.DataFrame = pd.read_csv(csv_path)\n",
    "# data = data.loc[370:370]\n",
    "\n",
    "# process_data(data)\n",
    "\n",
    "list_of_dfs = [data.loc[i:i + batch_size - 1, :] for i in range(0, len(data), batch_size)]\n",
    "\n",
    "futures = []\n",
    "for i in range(0, len(list_of_dfs)):\n",
    "    future = executor.submit(process_data, list_of_dfs[i])\n",
    "    futures.append(future)\n",
    "\n",
    "for future in futures:\n",
    "    future.result()"
   ],
   "id": "665219e998cc82dd",
   "outputs": [
    {
     "ename": "ValueError",
     "evalue": "text input must be of type `str` (single example), `List[str]` (batch or single pretokenized example) or `List[List[str]]` (batch of pretokenized examples).",
     "output_type": "error",
     "traceback": [
      "\u001B[0;31m---------------------------------------------------------------------------\u001B[0m",
      "\u001B[0;31mValueError\u001B[0m                                Traceback (most recent call last)",
      "Cell \u001B[0;32mIn[3], line 39\u001B[0m\n\u001B[1;32m     36\u001B[0m     futures\u001B[38;5;241m.\u001B[39mappend(future)\n\u001B[1;32m     38\u001B[0m \u001B[38;5;28;01mfor\u001B[39;00m future \u001B[38;5;129;01min\u001B[39;00m futures:\n\u001B[0;32m---> 39\u001B[0m     \u001B[43mfuture\u001B[49m\u001B[38;5;241;43m.\u001B[39;49m\u001B[43mresult\u001B[49m\u001B[43m(\u001B[49m\u001B[43m)\u001B[49m\n",
      "File \u001B[0;32m/Library/Developer/CommandLineTools/Library/Frameworks/Python3.framework/Versions/3.9/lib/python3.9/concurrent/futures/_base.py:438\u001B[0m, in \u001B[0;36mFuture.result\u001B[0;34m(self, timeout)\u001B[0m\n\u001B[1;32m    436\u001B[0m     \u001B[38;5;28;01mraise\u001B[39;00m CancelledError()\n\u001B[1;32m    437\u001B[0m \u001B[38;5;28;01melif\u001B[39;00m \u001B[38;5;28mself\u001B[39m\u001B[38;5;241m.\u001B[39m_state \u001B[38;5;241m==\u001B[39m FINISHED:\n\u001B[0;32m--> 438\u001B[0m     \u001B[38;5;28;01mreturn\u001B[39;00m \u001B[38;5;28;43mself\u001B[39;49m\u001B[38;5;241;43m.\u001B[39;49m\u001B[43m__get_result\u001B[49m\u001B[43m(\u001B[49m\u001B[43m)\u001B[49m\n\u001B[1;32m    440\u001B[0m \u001B[38;5;28mself\u001B[39m\u001B[38;5;241m.\u001B[39m_condition\u001B[38;5;241m.\u001B[39mwait(timeout)\n\u001B[1;32m    442\u001B[0m \u001B[38;5;28;01mif\u001B[39;00m \u001B[38;5;28mself\u001B[39m\u001B[38;5;241m.\u001B[39m_state \u001B[38;5;129;01min\u001B[39;00m [CANCELLED, CANCELLED_AND_NOTIFIED]:\n",
      "File \u001B[0;32m/Library/Developer/CommandLineTools/Library/Frameworks/Python3.framework/Versions/3.9/lib/python3.9/concurrent/futures/_base.py:390\u001B[0m, in \u001B[0;36mFuture.__get_result\u001B[0;34m(self)\u001B[0m\n\u001B[1;32m    388\u001B[0m \u001B[38;5;28;01mif\u001B[39;00m \u001B[38;5;28mself\u001B[39m\u001B[38;5;241m.\u001B[39m_exception:\n\u001B[1;32m    389\u001B[0m     \u001B[38;5;28;01mtry\u001B[39;00m:\n\u001B[0;32m--> 390\u001B[0m         \u001B[38;5;28;01mraise\u001B[39;00m \u001B[38;5;28mself\u001B[39m\u001B[38;5;241m.\u001B[39m_exception\n\u001B[1;32m    391\u001B[0m     \u001B[38;5;28;01mfinally\u001B[39;00m:\n\u001B[1;32m    392\u001B[0m         \u001B[38;5;66;03m# Break a reference cycle with the exception in self._exception\u001B[39;00m\n\u001B[1;32m    393\u001B[0m         \u001B[38;5;28mself\u001B[39m \u001B[38;5;241m=\u001B[39m \u001B[38;5;28;01mNone\u001B[39;00m\n",
      "File \u001B[0;32m/Library/Developer/CommandLineTools/Library/Frameworks/Python3.framework/Versions/3.9/lib/python3.9/concurrent/futures/thread.py:52\u001B[0m, in \u001B[0;36m_WorkItem.run\u001B[0;34m(self)\u001B[0m\n\u001B[1;32m     49\u001B[0m     \u001B[38;5;28;01mreturn\u001B[39;00m\n\u001B[1;32m     51\u001B[0m \u001B[38;5;28;01mtry\u001B[39;00m:\n\u001B[0;32m---> 52\u001B[0m     result \u001B[38;5;241m=\u001B[39m \u001B[38;5;28;43mself\u001B[39;49m\u001B[38;5;241;43m.\u001B[39;49m\u001B[43mfn\u001B[49m\u001B[43m(\u001B[49m\u001B[38;5;241;43m*\u001B[39;49m\u001B[38;5;28;43mself\u001B[39;49m\u001B[38;5;241;43m.\u001B[39;49m\u001B[43margs\u001B[49m\u001B[43m,\u001B[49m\u001B[43m \u001B[49m\u001B[38;5;241;43m*\u001B[39;49m\u001B[38;5;241;43m*\u001B[39;49m\u001B[38;5;28;43mself\u001B[39;49m\u001B[38;5;241;43m.\u001B[39;49m\u001B[43mkwargs\u001B[49m\u001B[43m)\u001B[49m\n\u001B[1;32m     53\u001B[0m \u001B[38;5;28;01mexcept\u001B[39;00m \u001B[38;5;167;01mBaseException\u001B[39;00m \u001B[38;5;28;01mas\u001B[39;00m exc:\n\u001B[1;32m     54\u001B[0m     \u001B[38;5;28mself\u001B[39m\u001B[38;5;241m.\u001B[39mfuture\u001B[38;5;241m.\u001B[39mset_exception(exc)\n",
      "Cell \u001B[0;32mIn[3], line 6\u001B[0m, in \u001B[0;36mprocess_data\u001B[0;34m(df)\u001B[0m\n\u001B[1;32m      2\u001B[0m videos \u001B[38;5;241m=\u001B[39m []\n\u001B[1;32m      3\u001B[0m \u001B[38;5;28;01mfor\u001B[39;00m index, row \u001B[38;5;129;01min\u001B[39;00m df\u001B[38;5;241m.\u001B[39miterrows():\n\u001B[1;32m      4\u001B[0m     video \u001B[38;5;241m=\u001B[39m {\n\u001B[1;32m      5\u001B[0m         \u001B[38;5;124m'\u001B[39m\u001B[38;5;124mdescription_ru\u001B[39m\u001B[38;5;124m'\u001B[39m: row[\u001B[38;5;124m'\u001B[39m\u001B[38;5;124mdescription_ru\u001B[39m\u001B[38;5;124m'\u001B[39m],\n\u001B[0;32m----> 6\u001B[0m         \u001B[38;5;124m'\u001B[39m\u001B[38;5;124mdescription_ru_vector\u001B[39m\u001B[38;5;124m'\u001B[39m: \u001B[43mget_embedding_3\u001B[49m\u001B[43m(\u001B[49m\u001B[43mrow\u001B[49m\u001B[43m[\u001B[49m\u001B[38;5;124;43m'\u001B[39;49m\u001B[38;5;124;43mdescription_ru\u001B[39;49m\u001B[38;5;124;43m'\u001B[39;49m\u001B[43m]\u001B[49m\u001B[43m)\u001B[49m,\n\u001B[1;32m      7\u001B[0m         \u001B[38;5;124m'\u001B[39m\u001B[38;5;124mlink\u001B[39m\u001B[38;5;124m'\u001B[39m: row[\u001B[38;5;124m'\u001B[39m\u001B[38;5;124mlink\u001B[39m\u001B[38;5;124m'\u001B[39m],\n\u001B[1;32m      8\u001B[0m         \u001B[38;5;66;03m# 'vector': get_embedding_3(row['description_ru'] + ' ' + row['tags'] if isinstance(row['tags'], str) else ''),\u001B[39;00m\n\u001B[1;32m      9\u001B[0m         \u001B[38;5;124m'\u001B[39m\u001B[38;5;124mvoice_vector\u001B[39m\u001B[38;5;124m'\u001B[39m: get_embedding_3(\u001B[38;5;28mstr\u001B[39m(row[\u001B[38;5;124m'\u001B[39m\u001B[38;5;124mtext\u001B[39m\u001B[38;5;124m'\u001B[39m] \u001B[38;5;129;01mor\u001B[39;00m \u001B[38;5;124m'\u001B[39m\u001B[38;5;124m'\u001B[39m)),\n\u001B[1;32m     10\u001B[0m         \u001B[38;5;124m'\u001B[39m\u001B[38;5;124mtags_vector\u001B[39m\u001B[38;5;124m'\u001B[39m: get_embedding_3(\u001B[38;5;28mstr\u001B[39m(row[\u001B[38;5;124m'\u001B[39m\u001B[38;5;124mtags\u001B[39m\u001B[38;5;124m'\u001B[39m] \u001B[38;5;129;01mor\u001B[39;00m \u001B[38;5;124m'\u001B[39m\u001B[38;5;124m'\u001B[39m)),\n\u001B[1;32m     11\u001B[0m     }\n\u001B[1;32m     13\u001B[0m     \u001B[38;5;66;03m# if isinstance(row['text'], str) and len(row['text']) > 0:\u001B[39;00m\n\u001B[1;32m     14\u001B[0m     \u001B[38;5;66;03m#     video['voice_vector'] = get_embedding_3(row['text'])\u001B[39;00m\n\u001B[1;32m     16\u001B[0m     videos\u001B[38;5;241m.\u001B[39mappend(video)\n",
      "Cell \u001B[0;32mIn[2], line 25\u001B[0m, in \u001B[0;36mget_embedding_3\u001B[0;34m(text)\u001B[0m\n\u001B[1;32m     23\u001B[0m \u001B[38;5;28;01mdef\u001B[39;00m \u001B[38;5;21mget_embedding_3\u001B[39m(text):\n\u001B[1;32m     24\u001B[0m     \u001B[38;5;66;03m#Tokenize sentences\u001B[39;00m\n\u001B[0;32m---> 25\u001B[0m     encoded_input \u001B[38;5;241m=\u001B[39m \u001B[43mtokenizer\u001B[49m\u001B[43m(\u001B[49m\u001B[43mtext\u001B[49m\u001B[43m,\u001B[49m\u001B[43m \u001B[49m\u001B[43mpadding\u001B[49m\u001B[38;5;241;43m=\u001B[39;49m\u001B[38;5;28;43;01mTrue\u001B[39;49;00m\u001B[43m,\u001B[49m\u001B[43m \u001B[49m\u001B[43mtruncation\u001B[49m\u001B[38;5;241;43m=\u001B[39;49m\u001B[38;5;28;43;01mTrue\u001B[39;49;00m\u001B[43m,\u001B[49m\u001B[43m \u001B[49m\u001B[43mmax_length\u001B[49m\u001B[38;5;241;43m=\u001B[39;49m\u001B[38;5;241;43m10000\u001B[39;49m\u001B[43m,\u001B[49m\u001B[43m \u001B[49m\u001B[43mreturn_tensors\u001B[49m\u001B[38;5;241;43m=\u001B[39;49m\u001B[38;5;124;43m'\u001B[39;49m\u001B[38;5;124;43mpt\u001B[39;49m\u001B[38;5;124;43m'\u001B[39;49m\u001B[43m)\u001B[49m\u001B[38;5;241m.\u001B[39mto(device)\n\u001B[1;32m     27\u001B[0m     \u001B[38;5;66;03m#Compute token embeddings\u001B[39;00m\n\u001B[1;32m     28\u001B[0m     \u001B[38;5;28;01mwith\u001B[39;00m torch\u001B[38;5;241m.\u001B[39mno_grad():\n",
      "File \u001B[0;32m~/Documents/projects/hackaton-lct-2024/video-service/video-venv/venv/lib/python3.9/site-packages/transformers/tokenization_utils_base.py:2883\u001B[0m, in \u001B[0;36mPreTrainedTokenizerBase.__call__\u001B[0;34m(self, text, text_pair, text_target, text_pair_target, add_special_tokens, padding, truncation, max_length, stride, is_split_into_words, pad_to_multiple_of, return_tensors, return_token_type_ids, return_attention_mask, return_overflowing_tokens, return_special_tokens_mask, return_offsets_mapping, return_length, verbose, **kwargs)\u001B[0m\n\u001B[1;32m   2881\u001B[0m     \u001B[38;5;28;01mif\u001B[39;00m \u001B[38;5;129;01mnot\u001B[39;00m \u001B[38;5;28mself\u001B[39m\u001B[38;5;241m.\u001B[39m_in_target_context_manager:\n\u001B[1;32m   2882\u001B[0m         \u001B[38;5;28mself\u001B[39m\u001B[38;5;241m.\u001B[39m_switch_to_input_mode()\n\u001B[0;32m-> 2883\u001B[0m     encodings \u001B[38;5;241m=\u001B[39m \u001B[38;5;28;43mself\u001B[39;49m\u001B[38;5;241;43m.\u001B[39;49m\u001B[43m_call_one\u001B[49m\u001B[43m(\u001B[49m\u001B[43mtext\u001B[49m\u001B[38;5;241;43m=\u001B[39;49m\u001B[43mtext\u001B[49m\u001B[43m,\u001B[49m\u001B[43m \u001B[49m\u001B[43mtext_pair\u001B[49m\u001B[38;5;241;43m=\u001B[39;49m\u001B[43mtext_pair\u001B[49m\u001B[43m,\u001B[49m\u001B[43m \u001B[49m\u001B[38;5;241;43m*\u001B[39;49m\u001B[38;5;241;43m*\u001B[39;49m\u001B[43mall_kwargs\u001B[49m\u001B[43m)\u001B[49m\n\u001B[1;32m   2884\u001B[0m \u001B[38;5;28;01mif\u001B[39;00m text_target \u001B[38;5;129;01mis\u001B[39;00m \u001B[38;5;129;01mnot\u001B[39;00m \u001B[38;5;28;01mNone\u001B[39;00m:\n\u001B[1;32m   2885\u001B[0m     \u001B[38;5;28mself\u001B[39m\u001B[38;5;241m.\u001B[39m_switch_to_target_mode()\n",
      "File \u001B[0;32m~/Documents/projects/hackaton-lct-2024/video-service/video-venv/venv/lib/python3.9/site-packages/transformers/tokenization_utils_base.py:2941\u001B[0m, in \u001B[0;36mPreTrainedTokenizerBase._call_one\u001B[0;34m(self, text, text_pair, add_special_tokens, padding, truncation, max_length, stride, is_split_into_words, pad_to_multiple_of, return_tensors, return_token_type_ids, return_attention_mask, return_overflowing_tokens, return_special_tokens_mask, return_offsets_mapping, return_length, verbose, **kwargs)\u001B[0m\n\u001B[1;32m   2938\u001B[0m         \u001B[38;5;28;01mreturn\u001B[39;00m \u001B[38;5;28;01mFalse\u001B[39;00m\n\u001B[1;32m   2940\u001B[0m \u001B[38;5;28;01mif\u001B[39;00m \u001B[38;5;129;01mnot\u001B[39;00m _is_valid_text_input(text):\n\u001B[0;32m-> 2941\u001B[0m     \u001B[38;5;28;01mraise\u001B[39;00m \u001B[38;5;167;01mValueError\u001B[39;00m(\n\u001B[1;32m   2942\u001B[0m         \u001B[38;5;124m\"\u001B[39m\u001B[38;5;124mtext input must be of type `str` (single example), `List[str]` (batch or single pretokenized example) \u001B[39m\u001B[38;5;124m\"\u001B[39m\n\u001B[1;32m   2943\u001B[0m         \u001B[38;5;124m\"\u001B[39m\u001B[38;5;124mor `List[List[str]]` (batch of pretokenized examples).\u001B[39m\u001B[38;5;124m\"\u001B[39m\n\u001B[1;32m   2944\u001B[0m     )\n\u001B[1;32m   2946\u001B[0m \u001B[38;5;28;01mif\u001B[39;00m text_pair \u001B[38;5;129;01mis\u001B[39;00m \u001B[38;5;129;01mnot\u001B[39;00m \u001B[38;5;28;01mNone\u001B[39;00m \u001B[38;5;129;01mand\u001B[39;00m \u001B[38;5;129;01mnot\u001B[39;00m _is_valid_text_input(text_pair):\n\u001B[1;32m   2947\u001B[0m     \u001B[38;5;28;01mraise\u001B[39;00m \u001B[38;5;167;01mValueError\u001B[39;00m(\n\u001B[1;32m   2948\u001B[0m         \u001B[38;5;124m\"\u001B[39m\u001B[38;5;124mtext input must be of type `str` (single example), `List[str]` (batch or single pretokenized example) \u001B[39m\u001B[38;5;124m\"\u001B[39m\n\u001B[1;32m   2949\u001B[0m         \u001B[38;5;124m\"\u001B[39m\u001B[38;5;124mor `List[List[str]]` (batch of pretokenized examples).\u001B[39m\u001B[38;5;124m\"\u001B[39m\n\u001B[1;32m   2950\u001B[0m     )\n",
      "\u001B[0;31mValueError\u001B[0m: text input must be of type `str` (single example), `List[str]` (batch or single pretokenized example) or `List[List[str]]` (batch of pretokenized examples)."
     ]
    }
   ],
   "execution_count": 3
  },
  {
   "metadata": {
    "ExecuteTime": {
     "end_time": "2024-06-10T20:37:52.241514Z",
     "start_time": "2024-06-10T20:37:52.158908Z"
    }
   },
   "cell_type": "code",
   "source": [
    "text = 'тачки'\n",
    "text_vector = get_embedding_3(text)\n",
    "\n",
    "query = {\n",
    "    'knn': {\n",
    "        'field': 'vector',\n",
    "        # 'field': 'voice_vector',\n",
    "        # 'field': 'description_ru_vector',\n",
    "        'query_vector': text_vector,\n",
    "        # 'k': 10,\n",
    "        # 'num_candidates': 100\n",
    "    },\n",
    "    'fields': ['description_ru', 'link'],\n",
    "    '_source': 'false'\n",
    "}\n",
    "\n",
    "multi_query = {\n",
    "    \"knn\": [\n",
    "        {\n",
    "            \"field\": \"description_ru_vector\",\n",
    "            \"query_vector\": text_vector,\n",
    "            \"k\": 10,\n",
    "            \"boost\": 0\n",
    "        },\n",
    "        {\n",
    "            \"field\": \"tags_vector\",\n",
    "            \"query_vector\": text_vector,\n",
    "            \"k\": 10,\n",
    "            \"boost\": 1\n",
    "        },\n",
    "        {\n",
    "            \"field\": \"voice_vector\",\n",
    "            \"query_vector\": text_vector,\n",
    "            \"k\": 10,\n",
    "            \"boost\": 0\n",
    "        }\n",
    "    ],\n",
    "    'fields': ['description_ru', 'link'],\n",
    "    '_source': 'false'\n",
    "}\n",
    "\n",
    "response = es.search(index=\"video-index-3\", body=multi_query)\n",
    "items = response['hits']['hits']\n",
    "items"
   ],
   "id": "c319705258b72cba",
   "outputs": [
    {
     "data": {
      "text/plain": [
       "[{'_index': 'video-index-3',\n",
       "  '_id': 'PzexA5ABoItb8IbNe19R',\n",
       "  '_score': 0.81299543,\n",
       "  '_source': {},\n",
       "  'fields': {'link': ['https://cdn-st.rutubelist.ru/media/02/59/21de5421418188fbee19966f4dd3/fhd.mp4'],\n",
       "   'description_ru': ['Мотоцикл с красным сиденьем и красным рулем. Красный мотоцикл с рулем и ручкой руля. Машина с камерой на заднем сиденье. Женщина в красном топе сидит на красном мотоцикле. Женщина в черном платье, стоящая рядом с мотоциклом.']}},\n",
       " {'_index': 'video-index-3',\n",
       "  '_id': '4zesA5ABoItb8IbNVUnt',\n",
       "  '_score': 0.8122759,\n",
       "  '_ignored': ['description_ru.keyword'],\n",
       "  '_source': {},\n",
       "  'fields': {'link': ['https://cdn-st.rutubelist.ru/media/01/73/4a9e04e44b46956392585327ca69/fhd.mp4'],\n",
       "   'description_ru': ['Автомобиль едет по улице с птицей, летящей в воздухе. Автомобиль едет по улице с птицей на лобовом стекле. Черный автомобиль припарковался перед зданием. Автомобиль с черно -белой машиной на заднем плане. Автомобиль припаркован перед зданием с черной машиной. Автомобиль припаркован перед стеной. Автомобиль припаркован на стоянке с птицей на лобовом стекле. Автомобиль припаркован перед зданием.']}},\n",
       " {'_index': 'video-index-3',\n",
       "  '_id': '5DesA5ABoItb8IbNVUnt',\n",
       "  '_score': 0.8122759,\n",
       "  '_ignored': ['description_ru.keyword'],\n",
       "  '_source': {},\n",
       "  'fields': {'link': ['https://cdn-st.rutubelist.ru/media/01/73/640bdbb243f698f6f60b346bdd04/fhd.mp4'],\n",
       "   'description_ru': ['Женщина, стоящая перед машиной в гараже. Женщина, стоящая перед машиной с красной курткой. Женщина, стоящая на плиточном поле перед зданием. Женщина, стоящая перед машиной с красной машиной. Женщина, сидящая в машине с мобильным телефоном. Женщина, стоящая в комнате с машиной. Женщина, сидящая в машине с телефоном в руке. Человек в машине с мобильным телефоном. Женщина, стоящая перед машиной с флагом. Автомобиль припаркован в гараже. Женщина, стоящая перед машиной на стоянке. Женщина, стоящая перед машиной с красным рулем.']}},\n",
       " {'_index': 'video-index-3',\n",
       "  '_id': 'MTesA5ABoItb8IbNV0qn',\n",
       "  '_score': 0.8122759,\n",
       "  '_ignored': ['description_ru.keyword'],\n",
       "  '_source': {},\n",
       "  'fields': {'link': ['https://cdn-st.rutubelist.ru/media/01/80/0acbcc8341b5b1fb0c24d29031b9/fhd.mp4'],\n",
       "   'description_ru': ['Человек сидит в машине с тачкой. Человек сидит в автомобильном сиденье с дистанционным управлением. Черная машина, сидящая на парковке. Человек держит мобильный телефон в машине. Дверь автомобиля с человеком в нем. Человек держит в руке мобильный телефон. Человек держит руль в машине. Человек, держащий мобильный телефон в руке. Человек держит в руке пульт дистанционного управления. Белое сиденье на белом автомобильном сиденье. Человек находится в машине машины. Человек держит руку в машине. Автомобильная панель со смартфоном и автомобильным радио.']}},\n",
       " {'_index': 'video-index-3',\n",
       "  '_id': 'rTesA5ABoItb8IbNc0q3',\n",
       "  '_score': 0.8122759,\n",
       "  '_source': {},\n",
       "  'fields': {'link': ['https://cdn-st.rutubelist.ru/media/02/d7/cc9b56ea4c54a4de2c624bccae98/fhd.mp4'],\n",
       "   'description_ru': ['Человек в машине с головой в окне.']}},\n",
       " {'_index': 'video-index-3',\n",
       "  '_id': 'szetA5ABoItb8IbN4lBD',\n",
       "  '_score': 0.8122759,\n",
       "  '_source': {},\n",
       "  'fields': {'link': ['https://cdn-st.rutubelist.ru/media/03/d1/2f7d4aab4b02b183904f76f146f3/fhd.mp4'],\n",
       "   'description_ru': ['Синий автомобиль припарковался в гараже рядом с синей машиной. Белая машина с дверью белой машины на капюшоне. Белая машина припаркована на парковке.']}},\n",
       " {'_index': 'video-index-3',\n",
       "  '_id': '_TetA5ABoItb8IbN_1AO',\n",
       "  '_score': 0.8122759,\n",
       "  '_ignored': ['description_ru.keyword'],\n",
       "  '_source': {},\n",
       "  'fields': {'link': ['https://cdn-st.rutubelist.ru/media/03/dc/37acfb104699962dfc06515a5fc7/fhd.mp4'],\n",
       "   'description_ru': ['Автомобиль едет по шоссе с синей машиной за ним. Мужчина в шлеме и солнцезащитных очках улыбается. Мужчина в черной рубашке и солнцезащитных очках. Мужчина в шлеме и солнцезащитных очках с улыбкой. Мужчина в галстуке и солнцезащитных очках, позирующих для картины. Дверь автомобиля открыта, и на ней сидит лист бумаги. Мужчина в солнцезащитных очках и галстук с улыбкой на лице. Мужчина в шлеме и солнцезащитных очках за рулем машины. Мужчина в солнцезащитных очках и галстук в машине. Человек с бородой и черным галстуком.']}},\n",
       " {'_index': 'video-index-3',\n",
       "  '_id': 'NjetA5ABoItb8IbN_1G2',\n",
       "  '_score': 0.8122759,\n",
       "  '_source': {},\n",
       "  'fields': {'link': ['https://cdn-st.rutubelist.ru/media/03/e7/f9bbe4b94e37ab43078f3d3959ac/fhd.mp4'],\n",
       "   'description_ru': ['Крупный план черно -белой фотографии клавиатуры. Человек в машине, управляющий мотоциклом.']}},\n",
       " {'_index': 'video-index-3',\n",
       "  '_id': '8jeuA5ABoItb8IbNQFEH',\n",
       "  '_score': 0.8122759,\n",
       "  '_source': {},\n",
       "  'fields': {'link': ['https://cdn-st.rutubelist.ru/media/04/09/cf4dacf548b0ab2092e58d0ba023/fhd.mp4'],\n",
       "   'description_ru': ['Белая машина с человеком на заднем сиденье. Человек в белой машине проезжает через парковку. Женщина сидит на скейтборде на улице. Человек, держащий мобильный телефон в руке. Белая машина едет по улице. Женщина стоит перед белой машиной.']}},\n",
       " {'_index': 'video-index-3',\n",
       "  '_id': 'fzeuA5ABoItb8IbNllNm',\n",
       "  '_score': 0.8122759,\n",
       "  '_source': {},\n",
       "  'fields': {'link': ['https://cdn-st.rutubelist.ru/media/00/73/26203d71426c969802fdfedbd165/fhd.mp4'],\n",
       "   'description_ru': ['Человек, едущий на грязном велосипеде по пути. Человек на велосипеде на грунтовой дороге.']}}]"
      ]
     },
     "execution_count": 4,
     "metadata": {},
     "output_type": "execute_result"
    }
   ],
   "execution_count": 4
  },
  {
   "metadata": {},
   "cell_type": "code",
   "outputs": [],
   "execution_count": null,
   "source": "",
   "id": "f3d099b0bd699de6"
  }
 ],
 "metadata": {
  "kernelspec": {
   "display_name": "Python 3",
   "language": "python",
   "name": "python3"
  },
  "language_info": {
   "codemirror_mode": {
    "name": "ipython",
    "version": 2
   },
   "file_extension": ".py",
   "mimetype": "text/x-python",
   "name": "python",
   "nbconvert_exporter": "python",
   "pygments_lexer": "ipython2",
   "version": "2.7.6"
  }
 },
 "nbformat": 4,
 "nbformat_minor": 5
}
